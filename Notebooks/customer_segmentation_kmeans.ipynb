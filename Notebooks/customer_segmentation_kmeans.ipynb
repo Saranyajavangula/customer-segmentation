{
 "cells": [
  {
   "cell_type": "code",
   "execution_count": 1,
   "id": "fff96e47-ae1d-483a-9051-ce3a55bc51e4",
   "metadata": {},
   "outputs": [],
   "source": [
    "#importing the necessary libraries \n",
    "import pandas as pd \n",
    "import sqlite3\n",
    "import matplotlib.pyplot as plt\n",
    "from sklearn.cluster import KMeans"
   ]
  },
  {
   "cell_type": "code",
   "execution_count": 21,
   "id": "8e0ddbfe-0347-4044-8da6-7371774f6428",
   "metadata": {},
   "outputs": [
    {
     "data": {
      "text/plain": [
       "<sqlite3.Connection at 0x17284963b50>"
      ]
     },
     "execution_count": 21,
     "metadata": {},
     "output_type": "execute_result"
    }
   ],
   "source": [
    "# making connection to the database \n",
    "conn=  sqlite3.connect(\"../Data/bootcamp_db\")\n",
    "conn"
   ]
  },
  {
   "cell_type": "code",
   "execution_count": 22,
   "id": "c7dd1e82-6e8d-435e-9610-e8ce6d696f72",
   "metadata": {},
   "outputs": [],
   "source": [
    "sql_query = \"\"\"SELECT name \n",
    "                FROM sqlite_master \n",
    "                where type = 'table';\"\"\""
   ]
  },
  {
   "cell_type": "code",
   "execution_count": 23,
   "id": "cf027034-07c2-415a-bc40-4ec5666b01dd",
   "metadata": {},
   "outputs": [
    {
     "name": "stdout",
     "output_type": "stream",
     "text": [
      "list of tables in the database:\n",
      "[('online_transactions',), ('stock_description',), ('online_transactions_cleaned',)]\n"
     ]
    }
   ],
   "source": [
    "cursor = conn.cursor()\n",
    "cursor.execute(sql_query)\n",
    "print(f\"list of tables in the database:\\n{cursor.fetchall()}\")"
   ]
  },
  {
   "cell_type": "code",
   "execution_count": 24,
   "id": "e86dc44e-fe12-4675-9a8d-92f5670c0cef",
   "metadata": {},
   "outputs": [],
   "source": [
    "query=\"\"\" select * \n",
    "         from online_transactions_cleaned\"\"\""
   ]
  },
  {
   "cell_type": "code",
   "execution_count": 25,
   "id": "7d90a371-eee7-495b-91b3-d30c49d34960",
   "metadata": {},
   "outputs": [],
   "source": [
    "ot_transactions=pd.read_sql(query,conn)"
   ]
  },
  {
   "cell_type": "code",
   "execution_count": 26,
   "id": "152dcd7f-6e8f-45ca-bc25-826cb137c76e",
   "metadata": {},
   "outputs": [
    {
     "data": {
      "text/html": [
       "<div>\n",
       "<style scoped>\n",
       "    .dataframe tbody tr th:only-of-type {\n",
       "        vertical-align: middle;\n",
       "    }\n",
       "\n",
       "    .dataframe tbody tr th {\n",
       "        vertical-align: top;\n",
       "    }\n",
       "\n",
       "    .dataframe thead th {\n",
       "        text-align: right;\n",
       "    }\n",
       "</style>\n",
       "<table border=\"1\" class=\"dataframe\">\n",
       "  <thead>\n",
       "    <tr style=\"text-align: right;\">\n",
       "      <th></th>\n",
       "      <th>invoice</th>\n",
       "      <th>stock_code</th>\n",
       "      <th>description</th>\n",
       "      <th>total_cost</th>\n",
       "      <th>invoice_date</th>\n",
       "      <th>price</th>\n",
       "      <th>quantity</th>\n",
       "      <th>customer_id</th>\n",
       "      <th>country</th>\n",
       "    </tr>\n",
       "  </thead>\n",
       "  <tbody>\n",
       "    <tr>\n",
       "      <th>0</th>\n",
       "      <td>536370</td>\n",
       "      <td>21791</td>\n",
       "      <td>VINTAGE HEADS AND TAILS CARD GAME</td>\n",
       "      <td>30.00</td>\n",
       "      <td>2010-12-01 08:45:00</td>\n",
       "      <td>1.25</td>\n",
       "      <td>24</td>\n",
       "      <td>u12583</td>\n",
       "      <td>France</td>\n",
       "    </tr>\n",
       "    <tr>\n",
       "      <th>1</th>\n",
       "      <td>536373</td>\n",
       "      <td>82494L</td>\n",
       "      <td>WOODEN FRAME ANTIQUE WHITE</td>\n",
       "      <td>15.30</td>\n",
       "      <td>2010-12-01 09:02:00</td>\n",
       "      <td>2.55</td>\n",
       "      <td>6</td>\n",
       "      <td>u1785</td>\n",
       "      <td>United Kingdom</td>\n",
       "    </tr>\n",
       "    <tr>\n",
       "      <th>2</th>\n",
       "      <td>536378</td>\n",
       "      <td>21929</td>\n",
       "      <td>JUMBO BAG PINK VINTAGE PAISLEY</td>\n",
       "      <td>19.50</td>\n",
       "      <td>2010-12-01 09:37:00</td>\n",
       "      <td>1.95</td>\n",
       "      <td>10</td>\n",
       "      <td>u14688</td>\n",
       "      <td>United Kingdom</td>\n",
       "    </tr>\n",
       "    <tr>\n",
       "      <th>3</th>\n",
       "      <td>536381</td>\n",
       "      <td>37444A</td>\n",
       "      <td>YELLOW BREAKFAST CUP AND SAUCER</td>\n",
       "      <td>2.95</td>\n",
       "      <td>2010-12-01 09:41:00</td>\n",
       "      <td>2.95</td>\n",
       "      <td>1</td>\n",
       "      <td>u15311</td>\n",
       "      <td>United Kingdom</td>\n",
       "    </tr>\n",
       "    <tr>\n",
       "      <th>4</th>\n",
       "      <td>536381</td>\n",
       "      <td>15056BL</td>\n",
       "      <td>EDWARDIAN PARASOL BLACK</td>\n",
       "      <td>11.90</td>\n",
       "      <td>2010-12-01 09:41:00</td>\n",
       "      <td>5.95</td>\n",
       "      <td>2</td>\n",
       "      <td>u15311</td>\n",
       "      <td>United Kingdom</td>\n",
       "    </tr>\n",
       "    <tr>\n",
       "      <th>...</th>\n",
       "      <td>...</td>\n",
       "      <td>...</td>\n",
       "      <td>...</td>\n",
       "      <td>...</td>\n",
       "      <td>...</td>\n",
       "      <td>...</td>\n",
       "      <td>...</td>\n",
       "      <td>...</td>\n",
       "      <td>...</td>\n",
       "    </tr>\n",
       "    <tr>\n",
       "      <th>399836</th>\n",
       "      <td>581580</td>\n",
       "      <td>22698</td>\n",
       "      <td>PINK REGENCY TEACUP AND SAUCER</td>\n",
       "      <td>2.95</td>\n",
       "      <td>2011-12-09 12:20:00</td>\n",
       "      <td>2.95</td>\n",
       "      <td>1</td>\n",
       "      <td>u12748</td>\n",
       "      <td>United Kingdom</td>\n",
       "    </tr>\n",
       "    <tr>\n",
       "      <th>399837</th>\n",
       "      <td>581584</td>\n",
       "      <td>20832</td>\n",
       "      <td>RED FLOCK LOVE HEART PHOTO FRAME</td>\n",
       "      <td>51.84</td>\n",
       "      <td>2011-12-09 12:25:00</td>\n",
       "      <td>0.72</td>\n",
       "      <td>72</td>\n",
       "      <td>u13777</td>\n",
       "      <td>United Kingdom</td>\n",
       "    </tr>\n",
       "    <tr>\n",
       "      <th>399838</th>\n",
       "      <td>581585</td>\n",
       "      <td>22178</td>\n",
       "      <td>VICTORIAN GLASS HANGING T-LIGHT</td>\n",
       "      <td>23.40</td>\n",
       "      <td>2011-12-09 12:31:00</td>\n",
       "      <td>1.95</td>\n",
       "      <td>12</td>\n",
       "      <td>u15804</td>\n",
       "      <td>United Kingdom</td>\n",
       "    </tr>\n",
       "    <tr>\n",
       "      <th>399839</th>\n",
       "      <td>581585</td>\n",
       "      <td>84692</td>\n",
       "      <td>BOX OF 24 COCKTAIL PARASOLS</td>\n",
       "      <td>10.50</td>\n",
       "      <td>2011-12-09 12:31:00</td>\n",
       "      <td>0.42</td>\n",
       "      <td>25</td>\n",
       "      <td>u15804</td>\n",
       "      <td>United Kingdom</td>\n",
       "    </tr>\n",
       "    <tr>\n",
       "      <th>399840</th>\n",
       "      <td>581586</td>\n",
       "      <td>23275</td>\n",
       "      <td>SET OF 3 HANGING OWLS OLLIE BEAK</td>\n",
       "      <td>30.00</td>\n",
       "      <td>2011-12-09 12:49:00</td>\n",
       "      <td>1.25</td>\n",
       "      <td>24</td>\n",
       "      <td>u13113</td>\n",
       "      <td>United Kingdom</td>\n",
       "    </tr>\n",
       "  </tbody>\n",
       "</table>\n",
       "<p>399841 rows × 9 columns</p>\n",
       "</div>"
      ],
      "text/plain": [
       "       invoice stock_code                         description  total_cost  \\\n",
       "0       536370      21791  VINTAGE HEADS AND TAILS CARD GAME        30.00   \n",
       "1       536373     82494L         WOODEN FRAME ANTIQUE WHITE        15.30   \n",
       "2       536378      21929      JUMBO BAG PINK VINTAGE PAISLEY       19.50   \n",
       "3       536381     37444A     YELLOW BREAKFAST CUP AND SAUCER        2.95   \n",
       "4       536381    15056BL             EDWARDIAN PARASOL BLACK       11.90   \n",
       "...        ...        ...                                 ...         ...   \n",
       "399836  581580      22698      PINK REGENCY TEACUP AND SAUCER        2.95   \n",
       "399837  581584      20832    RED FLOCK LOVE HEART PHOTO FRAME       51.84   \n",
       "399838  581585      22178     VICTORIAN GLASS HANGING T-LIGHT       23.40   \n",
       "399839  581585      84692         BOX OF 24 COCKTAIL PARASOLS       10.50   \n",
       "399840  581586      23275    SET OF 3 HANGING OWLS OLLIE BEAK       30.00   \n",
       "\n",
       "               invoice_date  price  quantity customer_id         country  \n",
       "0       2010-12-01 08:45:00   1.25        24      u12583          France  \n",
       "1       2010-12-01 09:02:00   2.55         6       u1785  United Kingdom  \n",
       "2       2010-12-01 09:37:00   1.95        10      u14688  United Kingdom  \n",
       "3       2010-12-01 09:41:00   2.95         1      u15311  United Kingdom  \n",
       "4       2010-12-01 09:41:00   5.95         2      u15311  United Kingdom  \n",
       "...                     ...    ...       ...         ...             ...  \n",
       "399836  2011-12-09 12:20:00   2.95         1      u12748  United Kingdom  \n",
       "399837  2011-12-09 12:25:00   0.72        72      u13777  United Kingdom  \n",
       "399838  2011-12-09 12:31:00   1.95        12      u15804  United Kingdom  \n",
       "399839  2011-12-09 12:31:00   0.42        25      u15804  United Kingdom  \n",
       "399840  2011-12-09 12:49:00   1.25        24      u13113  United Kingdom  \n",
       "\n",
       "[399841 rows x 9 columns]"
      ]
     },
     "execution_count": 26,
     "metadata": {},
     "output_type": "execute_result"
    }
   ],
   "source": [
    "ot_transactions"
   ]
  },
  {
   "cell_type": "markdown",
   "id": "25e7fecd-d511-44a1-b99b-7ebf37ca774f",
   "metadata": {},
   "source": [
    "# Preprocessing Data for Segmentation\n",
    "The informative features in this dataset that tell us about customer buying behavior include “quantity”, “invoice_date” and “total_cost” Using these variables, we are going to derive a customer’s RFM profile - Recency, Frequency, Monetary Value.\n",
    "\n",
    "RFM is commonly used in marketing to evaluate a client’s value based on their:\n",
    "Recency (R): How recently did a particular customer make a purchase?\n",
    "Frequency (F): How often do they make purchases?\n",
    "Monetary Value (M): How much money do they spend?\n",
    "\n",
    "We’ll use the information in the dataset to compute the recency, frequency, and monetary values. Then, we’ll map these values to the generally used RFM score scale of 1 - 5. \n",
    "\n",
    "we’ll try to identify customer segments with similar RFM characteristics. And for this, we’ll use K-Means clustering, an unsupervised machine learning algorithm that groups similar data points into clusters."
   ]
  },
  {
   "cell_type": "code",
   "execution_count": 27,
   "id": "4fca97bc-ec53-4753-9cbd-d291c3cf4523",
   "metadata": {},
   "outputs": [
    {
     "data": {
      "text/html": [
       "<div>\n",
       "<style scoped>\n",
       "    .dataframe tbody tr th:only-of-type {\n",
       "        vertical-align: middle;\n",
       "    }\n",
       "\n",
       "    .dataframe tbody tr th {\n",
       "        vertical-align: top;\n",
       "    }\n",
       "\n",
       "    .dataframe thead th {\n",
       "        text-align: right;\n",
       "    }\n",
       "</style>\n",
       "<table border=\"1\" class=\"dataframe\">\n",
       "  <thead>\n",
       "    <tr style=\"text-align: right;\">\n",
       "      <th></th>\n",
       "      <th>invoice</th>\n",
       "      <th>stock_code</th>\n",
       "      <th>description</th>\n",
       "      <th>total_cost</th>\n",
       "      <th>invoice_date</th>\n",
       "      <th>price</th>\n",
       "      <th>quantity</th>\n",
       "      <th>customer_id</th>\n",
       "      <th>country</th>\n",
       "    </tr>\n",
       "  </thead>\n",
       "  <tbody>\n",
       "    <tr>\n",
       "      <th>0</th>\n",
       "      <td>536370</td>\n",
       "      <td>21791</td>\n",
       "      <td>VINTAGE HEADS AND TAILS CARD GAME</td>\n",
       "      <td>30.00</td>\n",
       "      <td>2010-12-01 08:45:00</td>\n",
       "      <td>1.25</td>\n",
       "      <td>24</td>\n",
       "      <td>u12583</td>\n",
       "      <td>France</td>\n",
       "    </tr>\n",
       "    <tr>\n",
       "      <th>1</th>\n",
       "      <td>536373</td>\n",
       "      <td>82494L</td>\n",
       "      <td>WOODEN FRAME ANTIQUE WHITE</td>\n",
       "      <td>15.30</td>\n",
       "      <td>2010-12-01 09:02:00</td>\n",
       "      <td>2.55</td>\n",
       "      <td>6</td>\n",
       "      <td>u1785</td>\n",
       "      <td>United Kingdom</td>\n",
       "    </tr>\n",
       "    <tr>\n",
       "      <th>2</th>\n",
       "      <td>536378</td>\n",
       "      <td>21929</td>\n",
       "      <td>JUMBO BAG PINK VINTAGE PAISLEY</td>\n",
       "      <td>19.50</td>\n",
       "      <td>2010-12-01 09:37:00</td>\n",
       "      <td>1.95</td>\n",
       "      <td>10</td>\n",
       "      <td>u14688</td>\n",
       "      <td>United Kingdom</td>\n",
       "    </tr>\n",
       "    <tr>\n",
       "      <th>3</th>\n",
       "      <td>536381</td>\n",
       "      <td>37444A</td>\n",
       "      <td>YELLOW BREAKFAST CUP AND SAUCER</td>\n",
       "      <td>2.95</td>\n",
       "      <td>2010-12-01 09:41:00</td>\n",
       "      <td>2.95</td>\n",
       "      <td>1</td>\n",
       "      <td>u15311</td>\n",
       "      <td>United Kingdom</td>\n",
       "    </tr>\n",
       "    <tr>\n",
       "      <th>4</th>\n",
       "      <td>536381</td>\n",
       "      <td>15056BL</td>\n",
       "      <td>EDWARDIAN PARASOL BLACK</td>\n",
       "      <td>11.90</td>\n",
       "      <td>2010-12-01 09:41:00</td>\n",
       "      <td>5.95</td>\n",
       "      <td>2</td>\n",
       "      <td>u15311</td>\n",
       "      <td>United Kingdom</td>\n",
       "    </tr>\n",
       "  </tbody>\n",
       "</table>\n",
       "</div>"
      ],
      "text/plain": [
       "  invoice stock_code                         description  total_cost  \\\n",
       "0  536370      21791  VINTAGE HEADS AND TAILS CARD GAME        30.00   \n",
       "1  536373     82494L         WOODEN FRAME ANTIQUE WHITE        15.30   \n",
       "2  536378      21929      JUMBO BAG PINK VINTAGE PAISLEY       19.50   \n",
       "3  536381     37444A     YELLOW BREAKFAST CUP AND SAUCER        2.95   \n",
       "4  536381    15056BL             EDWARDIAN PARASOL BLACK       11.90   \n",
       "\n",
       "          invoice_date  price  quantity customer_id         country  \n",
       "0  2010-12-01 08:45:00   1.25        24      u12583          France  \n",
       "1  2010-12-01 09:02:00   2.55         6       u1785  United Kingdom  \n",
       "2  2010-12-01 09:37:00   1.95        10      u14688  United Kingdom  \n",
       "3  2010-12-01 09:41:00   2.95         1      u15311  United Kingdom  \n",
       "4  2010-12-01 09:41:00   5.95         2      u15311  United Kingdom  "
      ]
     },
     "execution_count": 27,
     "metadata": {},
     "output_type": "execute_result"
    }
   ],
   "source": [
    "ot_transactions.head()"
   ]
  },
  {
   "cell_type": "code",
   "execution_count": 29,
   "id": "5bb73f36-a8b8-46c6-bc9e-35a9c917392d",
   "metadata": {},
   "outputs": [
    {
     "data": {
      "text/html": [
       "<div>\n",
       "<style scoped>\n",
       "    .dataframe tbody tr th:only-of-type {\n",
       "        vertical-align: middle;\n",
       "    }\n",
       "\n",
       "    .dataframe tbody tr th {\n",
       "        vertical-align: top;\n",
       "    }\n",
       "\n",
       "    .dataframe thead th {\n",
       "        text-align: right;\n",
       "    }\n",
       "</style>\n",
       "<table border=\"1\" class=\"dataframe\">\n",
       "  <thead>\n",
       "    <tr style=\"text-align: right;\">\n",
       "      <th></th>\n",
       "      <th>total_cost</th>\n",
       "      <th>price</th>\n",
       "      <th>quantity</th>\n",
       "    </tr>\n",
       "  </thead>\n",
       "  <tbody>\n",
       "    <tr>\n",
       "      <th>count</th>\n",
       "      <td>399841.000000</td>\n",
       "      <td>399841.000000</td>\n",
       "      <td>399841.000000</td>\n",
       "    </tr>\n",
       "    <tr>\n",
       "      <th>mean</th>\n",
       "      <td>20.716904</td>\n",
       "      <td>2.952914</td>\n",
       "      <td>12.224359</td>\n",
       "    </tr>\n",
       "    <tr>\n",
       "      <th>std</th>\n",
       "      <td>425.471765</td>\n",
       "      <td>7.317593</td>\n",
       "      <td>250.788860</td>\n",
       "    </tr>\n",
       "    <tr>\n",
       "      <th>min</th>\n",
       "      <td>-168469.600000</td>\n",
       "      <td>0.000000</td>\n",
       "      <td>-80995.000000</td>\n",
       "    </tr>\n",
       "    <tr>\n",
       "      <th>25%</th>\n",
       "      <td>4.250000</td>\n",
       "      <td>1.250000</td>\n",
       "      <td>2.000000</td>\n",
       "    </tr>\n",
       "    <tr>\n",
       "      <th>50%</th>\n",
       "      <td>11.580000</td>\n",
       "      <td>1.950000</td>\n",
       "      <td>5.000000</td>\n",
       "    </tr>\n",
       "    <tr>\n",
       "      <th>75%</th>\n",
       "      <td>19.500000</td>\n",
       "      <td>3.750000</td>\n",
       "      <td>12.000000</td>\n",
       "    </tr>\n",
       "    <tr>\n",
       "      <th>max</th>\n",
       "      <td>168469.600000</td>\n",
       "      <td>1599.260000</td>\n",
       "      <td>80995.000000</td>\n",
       "    </tr>\n",
       "  </tbody>\n",
       "</table>\n",
       "</div>"
      ],
      "text/plain": [
       "          total_cost          price       quantity\n",
       "count  399841.000000  399841.000000  399841.000000\n",
       "mean       20.716904       2.952914      12.224359\n",
       "std       425.471765       7.317593     250.788860\n",
       "min   -168469.600000       0.000000  -80995.000000\n",
       "25%         4.250000       1.250000       2.000000\n",
       "50%        11.580000       1.950000       5.000000\n",
       "75%        19.500000       3.750000      12.000000\n",
       "max    168469.600000    1599.260000   80995.000000"
      ]
     },
     "execution_count": 29,
     "metadata": {},
     "output_type": "execute_result"
    }
   ],
   "source": [
    "ot_transactions.describe()"
   ]
  },
  {
   "cell_type": "markdown",
   "id": "fd4f9a1f-19fa-430b-b65d-9dc81e7542fe",
   "metadata": {},
   "source": [
    "The “Quantity” and “total_cost” columns contain negative values:"
   ]
  },
  {
   "cell_type": "code",
   "execution_count": 10,
   "id": "843a083c-24a4-4f46-8f30-980c6d145bd0",
   "metadata": {},
   "outputs": [
    {
     "name": "stdout",
     "output_type": "stream",
     "text": [
      "<class 'pandas.core.frame.DataFrame'>\n",
      "RangeIndex: 399841 entries, 0 to 399840\n",
      "Data columns (total 9 columns):\n",
      " #   Column        Non-Null Count   Dtype  \n",
      "---  ------        --------------   -----  \n",
      " 0   invoice       399841 non-null  object \n",
      " 1   stock_code    399841 non-null  object \n",
      " 2   description   399841 non-null  object \n",
      " 3   total_cost    399841 non-null  float64\n",
      " 4   invoice_date  399841 non-null  object \n",
      " 5   price         399841 non-null  float64\n",
      " 6   quantity      399841 non-null  int64  \n",
      " 7   customer_id   399841 non-null  object \n",
      " 8   country       399841 non-null  object \n",
      "dtypes: float64(2), int64(1), object(6)\n",
      "memory usage: 27.5+ MB\n"
     ]
    }
   ],
   "source": [
    "ot_transactions.info()"
   ]
  },
  {
   "cell_type": "markdown",
   "id": "8456a70f-268e-4768-9fc6-8ba2dbc18dad",
   "metadata": {},
   "source": [
    "The data has no missing values. But they contain negative values. So let's also drop the records with negative values for  “quantity” and “total_cost”:"
   ]
  },
  {
   "cell_type": "code",
   "execution_count": 30,
   "id": "b9706892-cea5-4c4b-8937-474c42137097",
   "metadata": {},
   "outputs": [],
   "source": [
    "# Remove rows with negative Quantity and Price\n",
    "ot_transactions = ot_transactions[(ot_transactions['quantity'] > 0) & (ot_transactions['total_cost'] > 0)]"
   ]
  },
  {
   "cell_type": "code",
   "execution_count": 31,
   "id": "25891f24-13a5-4e85-ba08-4975a94fcd28",
   "metadata": {},
   "outputs": [
    {
     "data": {
      "text/html": [
       "<div>\n",
       "<style scoped>\n",
       "    .dataframe tbody tr th:only-of-type {\n",
       "        vertical-align: middle;\n",
       "    }\n",
       "\n",
       "    .dataframe tbody tr th {\n",
       "        vertical-align: top;\n",
       "    }\n",
       "\n",
       "    .dataframe thead th {\n",
       "        text-align: right;\n",
       "    }\n",
       "</style>\n",
       "<table border=\"1\" class=\"dataframe\">\n",
       "  <thead>\n",
       "    <tr style=\"text-align: right;\">\n",
       "      <th></th>\n",
       "      <th>invoice</th>\n",
       "      <th>stock_code</th>\n",
       "      <th>description</th>\n",
       "      <th>total_cost</th>\n",
       "      <th>invoice_date</th>\n",
       "      <th>price</th>\n",
       "      <th>quantity</th>\n",
       "      <th>customer_id</th>\n",
       "      <th>country</th>\n",
       "    </tr>\n",
       "  </thead>\n",
       "  <tbody>\n",
       "    <tr>\n",
       "      <th>0</th>\n",
       "      <td>536370</td>\n",
       "      <td>21791</td>\n",
       "      <td>VINTAGE HEADS AND TAILS CARD GAME</td>\n",
       "      <td>30.00</td>\n",
       "      <td>2010-12-01 08:45:00</td>\n",
       "      <td>1.25</td>\n",
       "      <td>24</td>\n",
       "      <td>u12583</td>\n",
       "      <td>France</td>\n",
       "    </tr>\n",
       "    <tr>\n",
       "      <th>1</th>\n",
       "      <td>536373</td>\n",
       "      <td>82494L</td>\n",
       "      <td>WOODEN FRAME ANTIQUE WHITE</td>\n",
       "      <td>15.30</td>\n",
       "      <td>2010-12-01 09:02:00</td>\n",
       "      <td>2.55</td>\n",
       "      <td>6</td>\n",
       "      <td>u1785</td>\n",
       "      <td>United Kingdom</td>\n",
       "    </tr>\n",
       "    <tr>\n",
       "      <th>2</th>\n",
       "      <td>536378</td>\n",
       "      <td>21929</td>\n",
       "      <td>JUMBO BAG PINK VINTAGE PAISLEY</td>\n",
       "      <td>19.50</td>\n",
       "      <td>2010-12-01 09:37:00</td>\n",
       "      <td>1.95</td>\n",
       "      <td>10</td>\n",
       "      <td>u14688</td>\n",
       "      <td>United Kingdom</td>\n",
       "    </tr>\n",
       "    <tr>\n",
       "      <th>3</th>\n",
       "      <td>536381</td>\n",
       "      <td>37444A</td>\n",
       "      <td>YELLOW BREAKFAST CUP AND SAUCER</td>\n",
       "      <td>2.95</td>\n",
       "      <td>2010-12-01 09:41:00</td>\n",
       "      <td>2.95</td>\n",
       "      <td>1</td>\n",
       "      <td>u15311</td>\n",
       "      <td>United Kingdom</td>\n",
       "    </tr>\n",
       "    <tr>\n",
       "      <th>4</th>\n",
       "      <td>536381</td>\n",
       "      <td>15056BL</td>\n",
       "      <td>EDWARDIAN PARASOL BLACK</td>\n",
       "      <td>11.90</td>\n",
       "      <td>2010-12-01 09:41:00</td>\n",
       "      <td>5.95</td>\n",
       "      <td>2</td>\n",
       "      <td>u15311</td>\n",
       "      <td>United Kingdom</td>\n",
       "    </tr>\n",
       "    <tr>\n",
       "      <th>...</th>\n",
       "      <td>...</td>\n",
       "      <td>...</td>\n",
       "      <td>...</td>\n",
       "      <td>...</td>\n",
       "      <td>...</td>\n",
       "      <td>...</td>\n",
       "      <td>...</td>\n",
       "      <td>...</td>\n",
       "      <td>...</td>\n",
       "    </tr>\n",
       "    <tr>\n",
       "      <th>391295</th>\n",
       "      <td>581580</td>\n",
       "      <td>22698</td>\n",
       "      <td>PINK REGENCY TEACUP AND SAUCER</td>\n",
       "      <td>2.95</td>\n",
       "      <td>2011-12-09 12:20:00</td>\n",
       "      <td>2.95</td>\n",
       "      <td>1</td>\n",
       "      <td>u12748</td>\n",
       "      <td>United Kingdom</td>\n",
       "    </tr>\n",
       "    <tr>\n",
       "      <th>391296</th>\n",
       "      <td>581584</td>\n",
       "      <td>20832</td>\n",
       "      <td>RED FLOCK LOVE HEART PHOTO FRAME</td>\n",
       "      <td>51.84</td>\n",
       "      <td>2011-12-09 12:25:00</td>\n",
       "      <td>0.72</td>\n",
       "      <td>72</td>\n",
       "      <td>u13777</td>\n",
       "      <td>United Kingdom</td>\n",
       "    </tr>\n",
       "    <tr>\n",
       "      <th>391297</th>\n",
       "      <td>581585</td>\n",
       "      <td>22178</td>\n",
       "      <td>VICTORIAN GLASS HANGING T-LIGHT</td>\n",
       "      <td>23.40</td>\n",
       "      <td>2011-12-09 12:31:00</td>\n",
       "      <td>1.95</td>\n",
       "      <td>12</td>\n",
       "      <td>u15804</td>\n",
       "      <td>United Kingdom</td>\n",
       "    </tr>\n",
       "    <tr>\n",
       "      <th>391298</th>\n",
       "      <td>581585</td>\n",
       "      <td>84692</td>\n",
       "      <td>BOX OF 24 COCKTAIL PARASOLS</td>\n",
       "      <td>10.50</td>\n",
       "      <td>2011-12-09 12:31:00</td>\n",
       "      <td>0.42</td>\n",
       "      <td>25</td>\n",
       "      <td>u15804</td>\n",
       "      <td>United Kingdom</td>\n",
       "    </tr>\n",
       "    <tr>\n",
       "      <th>391299</th>\n",
       "      <td>581586</td>\n",
       "      <td>23275</td>\n",
       "      <td>SET OF 3 HANGING OWLS OLLIE BEAK</td>\n",
       "      <td>30.00</td>\n",
       "      <td>2011-12-09 12:49:00</td>\n",
       "      <td>1.25</td>\n",
       "      <td>24</td>\n",
       "      <td>u13113</td>\n",
       "      <td>United Kingdom</td>\n",
       "    </tr>\n",
       "  </tbody>\n",
       "</table>\n",
       "<p>391300 rows × 9 columns</p>\n",
       "</div>"
      ],
      "text/plain": [
       "       invoice stock_code                         description  total_cost  \\\n",
       "0       536370      21791  VINTAGE HEADS AND TAILS CARD GAME        30.00   \n",
       "1       536373     82494L         WOODEN FRAME ANTIQUE WHITE        15.30   \n",
       "2       536378      21929      JUMBO BAG PINK VINTAGE PAISLEY       19.50   \n",
       "3       536381     37444A     YELLOW BREAKFAST CUP AND SAUCER        2.95   \n",
       "4       536381    15056BL             EDWARDIAN PARASOL BLACK       11.90   \n",
       "...        ...        ...                                 ...         ...   \n",
       "391295  581580      22698      PINK REGENCY TEACUP AND SAUCER        2.95   \n",
       "391296  581584      20832    RED FLOCK LOVE HEART PHOTO FRAME       51.84   \n",
       "391297  581585      22178     VICTORIAN GLASS HANGING T-LIGHT       23.40   \n",
       "391298  581585      84692         BOX OF 24 COCKTAIL PARASOLS       10.50   \n",
       "391299  581586      23275    SET OF 3 HANGING OWLS OLLIE BEAK       30.00   \n",
       "\n",
       "               invoice_date  price  quantity customer_id         country  \n",
       "0       2010-12-01 08:45:00   1.25        24      u12583          France  \n",
       "1       2010-12-01 09:02:00   2.55         6       u1785  United Kingdom  \n",
       "2       2010-12-01 09:37:00   1.95        10      u14688  United Kingdom  \n",
       "3       2010-12-01 09:41:00   2.95         1      u15311  United Kingdom  \n",
       "4       2010-12-01 09:41:00   5.95         2      u15311  United Kingdom  \n",
       "...                     ...    ...       ...         ...             ...  \n",
       "391295  2011-12-09 12:20:00   2.95         1      u12748  United Kingdom  \n",
       "391296  2011-12-09 12:25:00   0.72        72      u13777  United Kingdom  \n",
       "391297  2011-12-09 12:31:00   1.95        12      u15804  United Kingdom  \n",
       "391298  2011-12-09 12:31:00   0.42        25      u15804  United Kingdom  \n",
       "391299  2011-12-09 12:49:00   1.25        24      u13113  United Kingdom  \n",
       "\n",
       "[391300 rows x 9 columns]"
      ]
     },
     "execution_count": 31,
     "metadata": {},
     "output_type": "execute_result"
    }
   ],
   "source": [
    "ot_transactions.reset_index(drop=True)"
   ]
  },
  {
   "cell_type": "code",
   "execution_count": 32,
   "id": "1aebe39d-3b72-4201-886b-8f428a3d54f6",
   "metadata": {},
   "outputs": [
    {
     "name": "stderr",
     "output_type": "stream",
     "text": [
      "C:\\Users\\dines\\AppData\\Local\\Temp\\ipykernel_22868\\170961715.py:1: SettingWithCopyWarning: \n",
      "A value is trying to be set on a copy of a slice from a DataFrame.\n",
      "Try using .loc[row_indexer,col_indexer] = value instead\n",
      "\n",
      "See the caveats in the documentation: https://pandas.pydata.org/pandas-docs/stable/user_guide/indexing.html#returning-a-view-versus-a-copy\n",
      "  ot_transactions['invoice_date']=pd.to_datetime(ot_transactions['invoice_date'])\n"
     ]
    }
   ],
   "source": [
    "ot_transactions['invoice_date']=pd.to_datetime(ot_transactions['invoice_date'])"
   ]
  },
  {
   "cell_type": "code",
   "execution_count": 33,
   "id": "e9194274-0342-4732-a75d-008814154d88",
   "metadata": {},
   "outputs": [
    {
     "name": "stdout",
     "output_type": "stream",
     "text": [
      "<class 'pandas.core.frame.DataFrame'>\n",
      "Index: 391300 entries, 0 to 399840\n",
      "Data columns (total 9 columns):\n",
      " #   Column        Non-Null Count   Dtype         \n",
      "---  ------        --------------   -----         \n",
      " 0   invoice       391300 non-null  object        \n",
      " 1   stock_code    391300 non-null  object        \n",
      " 2   description   391300 non-null  object        \n",
      " 3   total_cost    391300 non-null  float64       \n",
      " 4   invoice_date  391300 non-null  datetime64[ns]\n",
      " 5   price         391300 non-null  float64       \n",
      " 6   quantity      391300 non-null  int64         \n",
      " 7   customer_id   391300 non-null  object        \n",
      " 8   country       391300 non-null  object        \n",
      "dtypes: datetime64[ns](1), float64(2), int64(1), object(5)\n",
      "memory usage: 29.9+ MB\n"
     ]
    }
   ],
   "source": [
    "ot_transactions.info()"
   ]
  },
  {
   "cell_type": "markdown",
   "id": "e74ca752-e97f-43f2-99ab-678d52999c36",
   "metadata": {},
   "source": [
    "Compute Recency, Frequency, and Monetary Value"
   ]
  },
  {
   "cell_type": "code",
   "execution_count": 35,
   "id": "177d65d5-a175-4b65-ba61-ef29bfaba7aa",
   "metadata": {},
   "outputs": [],
   "source": [
    "# defining a reference date 'snapshot_date' that’s a day later than the most recent date in the “invoice_date” column:\n",
    "\n",
    "snapshot_date = max(ot_transactions['invoice_date']) + pd.DateOffset(days=1)"
   ]
  },
  {
   "cell_type": "markdown",
   "id": "d9ff482d-fabd-4285-8392-e54a091a2670",
   "metadata": {},
   "source": [
    "1.For recency, we’ll calculate the difference between the most recent purchase date and a reference date (snapshot_date). This gives the number of days since the customer's last purchase. \n",
    "\n",
    "2.For frequency measures how often a customer makes purchases, we’ll calculate it as the total number of unique invoices or transactions made by each customer.\n",
    "\n",
    "3.For Monetary value quantifies how much money a customer spends. So we’ll find the average of the total monetary value across transactions.\n"
   ]
  },
  {
   "cell_type": "code",
   "execution_count": 37,
   "id": "15374590-937a-421c-80b6-2a8ad46677da",
   "metadata": {},
   "outputs": [],
   "source": [
    "rfm = ot_transactions.groupby('customer_id').agg({\n",
    "    'invoice_date': lambda x: (snapshot_date - x.max()).days,\n",
    "    'invoice': 'nunique',\n",
    "    'total_cost': 'sum'\n",
    "})"
   ]
  },
  {
   "cell_type": "code",
   "execution_count": 38,
   "id": "a6a8332e-5f7f-4dfc-9b16-434db41e84f4",
   "metadata": {},
   "outputs": [
    {
     "data": {
      "text/html": [
       "<div>\n",
       "<style scoped>\n",
       "    .dataframe tbody tr th:only-of-type {\n",
       "        vertical-align: middle;\n",
       "    }\n",
       "\n",
       "    .dataframe tbody tr th {\n",
       "        vertical-align: top;\n",
       "    }\n",
       "\n",
       "    .dataframe thead th {\n",
       "        text-align: right;\n",
       "    }\n",
       "</style>\n",
       "<table border=\"1\" class=\"dataframe\">\n",
       "  <thead>\n",
       "    <tr style=\"text-align: right;\">\n",
       "      <th></th>\n",
       "      <th>Recency</th>\n",
       "      <th>Frequency</th>\n",
       "      <th>MonetaryValue</th>\n",
       "    </tr>\n",
       "    <tr>\n",
       "      <th>customer_id</th>\n",
       "      <th></th>\n",
       "      <th></th>\n",
       "      <th></th>\n",
       "    </tr>\n",
       "  </thead>\n",
       "  <tbody>\n",
       "    <tr>\n",
       "      <th>u12346</th>\n",
       "      <td>326</td>\n",
       "      <td>1</td>\n",
       "      <td>77183.60</td>\n",
       "    </tr>\n",
       "    <tr>\n",
       "      <th>u12347</th>\n",
       "      <td>2</td>\n",
       "      <td>7</td>\n",
       "      <td>4310.00</td>\n",
       "    </tr>\n",
       "    <tr>\n",
       "      <th>u12348</th>\n",
       "      <td>75</td>\n",
       "      <td>4</td>\n",
       "      <td>1437.24</td>\n",
       "    </tr>\n",
       "    <tr>\n",
       "      <th>u12349</th>\n",
       "      <td>19</td>\n",
       "      <td>1</td>\n",
       "      <td>1457.55</td>\n",
       "    </tr>\n",
       "    <tr>\n",
       "      <th>u1235</th>\n",
       "      <td>310</td>\n",
       "      <td>1</td>\n",
       "      <td>294.40</td>\n",
       "    </tr>\n",
       "  </tbody>\n",
       "</table>\n",
       "</div>"
      ],
      "text/plain": [
       "             Recency  Frequency  MonetaryValue\n",
       "customer_id                                   \n",
       "u12346           326          1       77183.60\n",
       "u12347             2          7        4310.00\n",
       "u12348            75          4        1437.24\n",
       "u12349            19          1        1457.55\n",
       "u1235            310          1         294.40"
      ]
     },
     "execution_count": 38,
     "metadata": {},
     "output_type": "execute_result"
    }
   ],
   "source": [
    "# rename the columns for readability\n",
    "rfm.rename(columns={'invoice_date': 'Recency', 'invoice': 'Frequency', 'total_cost': 'MonetaryValue'}, inplace=True)\n",
    "rfm.head()"
   ]
  },
  {
   "cell_type": "markdown",
   "id": "247ea4b1-e1dd-442e-9709-c32fcebdc3ef",
   "metadata": {},
   "source": [
    "### Map RFM Values onto a 1-5 Scale \n",
    "Now let’s map the “Recency”, “Frequency”, and “MonetaryValue” columns to take on values in a scale of 1-5; one of {1,2,3,4,5}.\n",
    "We’ll essentially assign the values to five different bins, and map each bin to a value. To help us fix the bin edges, let’s use the quantile values of the “Recency”, “Frequency”, and “MonetaryValue” columns:"
   ]
  },
  {
   "cell_type": "code",
   "execution_count": null,
   "id": "ceb10f0e-7ce7-4746-a90e-95f9f90b7739",
   "metadata": {},
   "outputs": [],
   "source": [
    "rfm.describe()"
   ]
  },
  {
   "cell_type": "code",
   "execution_count": 43,
   "id": "41525147-2cae-461d-9e96-0ea3db52c43a",
   "metadata": {},
   "outputs": [],
   "source": [
    "# Calculate custom bin edges for Recency, Frequency, and Monetary scores\n",
    "recency_bins = [rfm['Recency'].min()-1, 20, 50, 150, 250, rfm['Recency'].max()]\n",
    "frequency_bins = [rfm['Frequency'].min() - 1, 2, 3, 10, 100, rfm['Frequency'].max()]\n",
    "monetary_bins = [rfm['MonetaryValue'].min() - 3, 300, 600, 2000, 5000, rfm['MonetaryValue'].max()]"
   ]
  },
  {
   "cell_type": "markdown",
   "id": "ed25c9a4-7f69-41e8-9cec-ca893551d412",
   "metadata": {},
   "source": [
    "Now that we’ve defined the bin edges, let’s map the scores to corresponding labels between 1 and 5 (both inclusive):"
   ]
  },
  {
   "cell_type": "code",
   "execution_count": 44,
   "id": "44e31663-2a2a-44ce-a96a-70049ad48fd5",
   "metadata": {},
   "outputs": [],
   "source": [
    "# Calculate Recency score based on custom bins \n",
    "rfm['R_Score'] = pd.cut(rfm['Recency'], bins=recency_bins, labels=range(1, 6), include_lowest=True)\n",
    "\n",
    "# Reverse the Recency scores so that higher values indicate more recent purchases\n",
    "rfm['R_Score'] = 5 - rfm['R_Score'].astype(int) + 1\n",
    "\n",
    "# Calculate Frequency and Monetary scores based on custom bins\n",
    "rfm['F_Score'] = pd.cut(rfm['Frequency'], bins=frequency_bins, labels=range(1, 6), include_lowest=True).astype(int)\n",
    "rfm['M_Score'] = pd.cut(rfm['MonetaryValue'], bins=monetary_bins, labels=range(1, 6), include_lowest=True).astype(int)"
   ]
  },
  {
   "cell_type": "markdown",
   "id": "2311e1ed-4777-474f-9034-485be39c0c51",
   "metadata": {},
   "source": [
    "Notice that the R_Score, based on the bins, is 1 for recent purchases 5 for all purchases made over 250 days ago. But we’d like the most recent purchases to have an R_Score of 5 and purchases made over 250 days ago to have an R_Score of 1.\n",
    "\n",
    "To achieve the desired mapping, we do: 5 - rfm['R_Score'].astype(int) + 1.\n",
    "\n",
    "Let’s look at the first few rows of the R_Score, F_Score, and M_Score columns:"
   ]
  },
  {
   "cell_type": "code",
   "execution_count": 52,
   "id": "432ef4e4-9c8b-451a-9337-987d62380b1b",
   "metadata": {},
   "outputs": [
    {
     "name": "stdout",
     "output_type": "stream",
     "text": [
      "             R_Score  F_Score  M_Score\n",
      "customer_id                           \n",
      "u12346             1        1        5\n",
      "u12347             5        3        4\n",
      "u12348             3        3        3\n",
      "u12349             5        1        3\n",
      "u1235              1        1        1\n",
      "u12352             4        3        3\n",
      "u12353             2        1        1\n",
      "u12354             2        1        3\n",
      "u12355             2        1        2\n",
      "u12356             4        2        4\n"
     ]
    }
   ],
   "source": [
    "# Print the first few rows of the RFM DataFrame to verify the scores\n",
    "print(rfm[['R_Score', 'F_Score', 'M_Score']].head(10))"
   ]
  },
  {
   "cell_type": "markdown",
   "id": "d8bfbbd5-44f5-42d5-a586-efd7e8fe7dd1",
   "metadata": {},
   "source": [
    "### Perform K-Means Clustering\n",
    "K-Means clustering is sensitive to the scale of features. Because the R, F, and M values are all on the same scale, we can proceed to perform clustering without further scaling the features.\n",
    "Let’s extract the R, F, and M scores to perform K-Means clustering:"
   ]
  },
  {
   "cell_type": "code",
   "execution_count": 50,
   "id": "250128e4-901a-416e-9e44-81a0bc073deb",
   "metadata": {},
   "outputs": [],
   "source": [
    "# Extract RFM scores for K-means clustering\n",
    "X = rfm[['R_Score', 'F_Score', 'M_Score']]"
   ]
  },
  {
   "cell_type": "markdown",
   "id": "f52f02de-9da1-491a-be6b-ca34e3069d65",
   "metadata": {},
   "source": [
    "we need to find the optimal number of clusters. For this let’s run the K-Means algorithm for a range of K values and use the elbow method to pick the optimal K:"
   ]
  },
  {
   "cell_type": "code",
   "execution_count": 47,
   "id": "f6160c65-5570-4219-bb04-20d729c9f637",
   "metadata": {},
   "outputs": [
    {
     "data": {
      "image/png": "[encoded data removed]",
      "text/plain": [
       "<Figure size 750x600 with 1 Axes>"
      ]
     },
     "metadata": {},
     "output_type": "display_data"
    }
   ],
   "source": [
    "# Calculate inertia (sum of squared distances) for different values of k\n",
    "inertia = []\n",
    "for k in range(2, 11):\n",
    "    kmeans = KMeans(n_clusters=k, n_init= 10, random_state=42)\n",
    "    kmeans.fit(X)\n",
    "    inertia.append(kmeans.inertia_)\n",
    "\n",
    "# Plot the elbow curve\n",
    "plt.figure(figsize=(5, 4),dpi=150)\n",
    "plt.plot(range(2, 11), inertia, marker='o')\n",
    "plt.xlabel('Number of Clusters (k)')\n",
    "plt.ylabel('Inertia')\n",
    "plt.title('Elbow Curve for K-means Clustering')\n",
    "plt.grid(True)\n",
    "plt.show()"
   ]
  },
  {
   "cell_type": "markdown",
   "id": "adb7acc4-7e3d-4964-814f-3526f8a69c01",
   "metadata": {},
   "source": [
    "let’s divide the customer base into four segments.\n",
    "We’ve fixed K to 4. So let’s run the K-Means algorithm to get the cluster assignments for all points in the dataset:"
   ]
  },
  {
   "cell_type": "code",
   "execution_count": 53,
   "id": "53af71b5-d48b-4e62-a012-55134241b5b9",
   "metadata": {},
   "outputs": [],
   "source": [
    "# Perform K-means clustering with best K\n",
    "best_kmeans = KMeans(n_clusters=4, n_init=10, random_state=42)\n",
    "rfm['Cluster'] = best_kmeans.fit_predict(X)"
   ]
  },
  {
   "cell_type": "markdown",
   "id": "abab945a-a3e4-418f-96d3-7a4e968e5ee0",
   "metadata": {},
   "source": [
    "# Interpret the Clusters to Identify Customer Segments "
   ]
  },
  {
   "cell_type": "code",
   "execution_count": 56,
   "id": "cbe51ea3-8beb-4cce-9e9d-0ccaf1ea368f",
   "metadata": {},
   "outputs": [],
   "source": [
    "# Group by cluster and calculate mean values\n",
    "cluster_summary = rfm.groupby('Cluster').agg({\n",
    "    'R_Score': 'mean',\n",
    "    'F_Score': 'mean',\n",
    "    'M_Score': 'mean'\n",
    "}).reset_index()"
   ]
  },
  {
   "cell_type": "code",
   "execution_count": 57,
   "id": "83000175-ae8e-4243-988b-9806eb97779b",
   "metadata": {},
   "outputs": [
    {
     "data": {
      "text/html": [
       "<div>\n",
       "<style scoped>\n",
       "    .dataframe tbody tr th:only-of-type {\n",
       "        vertical-align: middle;\n",
       "    }\n",
       "\n",
       "    .dataframe tbody tr th {\n",
       "        vertical-align: top;\n",
       "    }\n",
       "\n",
       "    .dataframe thead th {\n",
       "        text-align: right;\n",
       "    }\n",
       "</style>\n",
       "<table border=\"1\" class=\"dataframe\">\n",
       "  <thead>\n",
       "    <tr style=\"text-align: right;\">\n",
       "      <th></th>\n",
       "      <th>Cluster</th>\n",
       "      <th>R_Score</th>\n",
       "      <th>F_Score</th>\n",
       "      <th>M_Score</th>\n",
       "    </tr>\n",
       "  </thead>\n",
       "  <tbody>\n",
       "    <tr>\n",
       "      <th>0</th>\n",
       "      <td>0</td>\n",
       "      <td>4.682540</td>\n",
       "      <td>3.188889</td>\n",
       "      <td>3.728571</td>\n",
       "    </tr>\n",
       "    <tr>\n",
       "      <th>1</th>\n",
       "      <td>1</td>\n",
       "      <td>1.443678</td>\n",
       "      <td>1.058621</td>\n",
       "      <td>1.497701</td>\n",
       "    </tr>\n",
       "    <tr>\n",
       "      <th>2</th>\n",
       "      <td>2</td>\n",
       "      <td>3.883229</td>\n",
       "      <td>1.078370</td>\n",
       "      <td>1.692790</td>\n",
       "    </tr>\n",
       "    <tr>\n",
       "      <th>3</th>\n",
       "      <td>3</td>\n",
       "      <td>2.922414</td>\n",
       "      <td>1.991379</td>\n",
       "      <td>3.154095</td>\n",
       "    </tr>\n",
       "  </tbody>\n",
       "</table>\n",
       "</div>"
      ],
      "text/plain": [
       "   Cluster   R_Score   F_Score   M_Score\n",
       "0        0  4.682540  3.188889  3.728571\n",
       "1        1  1.443678  1.058621  1.497701\n",
       "2        2  3.883229  1.078370  1.692790\n",
       "3        3  2.922414  1.991379  3.154095"
      ]
     },
     "execution_count": 57,
     "metadata": {},
     "output_type": "execute_result"
    }
   ],
   "source": [
    "cluster_summary"
   ]
  },
  {
   "cell_type": "code",
   "execution_count": 55,
   "id": "1ce29994-9016-4972-966f-f4889ceb7eca",
   "metadata": {},
   "outputs": [
    {
     "data": {
      "image/png": "[encoded data removed]",
      "text/plain": [
       "<Figure size 1000x800 with 3 Axes>"
      ]
     },
     "metadata": {},
     "output_type": "display_data"
    }
   ],
   "source": [
    "# let's visualise the RFM values \n",
    "colors = ['#3498db', '#2ecc71', '#f39c12','#C9B1BD']\n",
    "\n",
    "# Plot the average RFM scores for each cluster\n",
    "plt.figure(figsize=(10, 8),dpi=100)\n",
    "\n",
    "# Plot Avg Recency\n",
    "plt.subplot(3, 1, 1)\n",
    "bars = plt.bar(cluster_summary.index, cluster_summary['R_Score'], color=colors)\n",
    "plt.xlabel('Cluster')\n",
    "plt.ylabel('Avg Recency')\n",
    "plt.title('Average Recency for Each Cluster')\n",
    "\n",
    "plt.grid(True, linestyle='--', alpha=0.5)\n",
    "plt.legend(bars, cluster_summary.index, title='Clusters')\n",
    "\n",
    "# Plot Avg Frequency\n",
    "plt.subplot(3, 1, 2)\n",
    "bars = plt.bar(cluster_summary.index, cluster_summary['F_Score'], color=colors)\n",
    "plt.xlabel('Cluster')\n",
    "plt.ylabel('Avg Frequency')\n",
    "plt.title('Average Frequency for Each Cluster')\n",
    "plt.grid(True, linestyle='--', alpha=0.5)\n",
    "plt.legend(bars, cluster_summary.index, title='Clusters')\n",
    "\n",
    "# Plot Avg Monetary\n",
    "plt.subplot(3, 1, 3)\n",
    "bars = plt.bar(cluster_summary.index, cluster_summary['M_Score'], color=colors)\n",
    "plt.xlabel('Cluster')\n",
    "plt.ylabel('Avg Monetary')\n",
    "plt.title('Average Monetary Value for Each Cluster')\n",
    "plt.grid(True, linestyle='--', alpha=0.5)\n",
    "plt.legend(bars, cluster_summary.index, title='Clusters')\n",
    "\n",
    "plt.tight_layout()\n",
    "plt.show()"
   ]
  },
  {
   "cell_type": "markdown",
   "id": "f7fc8e8d-5006-4033-b9dd-d374fa835204",
   "metadata": {},
   "source": [
    "Cluster 0: Of all the four clusters, this cluster has the highest recency, frequency, and monetary values. Let’s call the customers in this cluster champions.\n",
    "\n",
    "Cluster 1:  This cluster has low values in Recency,frequency and monetary. so they are at-Risk customers.\n",
    "\n",
    "Cluster 2:  This cluster is characterized by high recency and relatively lower frequency and moderate monetary values. So these are recent customers who can potentially become long-term customers.\n",
    "\n",
    "Cluster 3: This cluster is characterized by moderate frequency,recency and monetary values. Let's call them loyal customers."
   ]
  },
  {
   "cell_type": "markdown",
   "id": "7affa14e-55d0-4770-8cfd-dae5b17e1c3e",
   "metadata": {},
   "source": [
    "1. For Champions: Offer personalized special discounts, early access, and other premium perks to make them feel valued and appreciated.\n",
    "\n",
    "2. For Loyal Customers: Appreciation campaigns, referral bonuses, and rewards for loyalty.\n",
    "\n",
    "3. For At-Risk Customers: Re-engagement efforts that include running discounts or promotions to encourage buying.\n",
    "\n",
    "4  For Recent Customers: Targeted campaigns educating them about the brand and discounts on subsequent purchases. \n",
    "\n"
   ]
  },
  {
   "cell_type": "code",
   "execution_count": 60,
   "id": "5bfa9afa-bea5-485b-8727-dc93a978b9c9",
   "metadata": {},
   "outputs": [
    {
     "data": {
      "image/png": "[encoded data removed]",
      "text/plain": [
       "<Figure size 750x750 with 1 Axes>"
      ]
     },
     "metadata": {},
     "output_type": "display_data"
    }
   ],
   "source": [
    "cluster_counts = rfm['Cluster'].value_counts()\n",
    "\n",
    "colors = ['#3498db', '#2ecc71', '#f39c12','#C9B1BD']\n",
    "# Calculate the total number of customers\n",
    "total_customers = cluster_counts.sum()\n",
    "\n",
    "# Calculate the percentage of customers in each cluster\n",
    "percentage_customers = (cluster_counts / total_customers) * 100\n",
    "\n",
    "labels = ['Champions','At-risk Customers','Recent Customers','Loyal Customers']\n",
    "\n",
    "# Create a pie chart\n",
    "plt.figure(figsize=(5, 5),dpi=150)\n",
    "plt.pie(percentage_customers, labels=labels, autopct='%1.1f%%', startangle=90, colors=colors)\n",
    "plt.title('Percentage of Customers in Each Cluster')\n",
    "plt.legend(cluster_summary['Cluster'], title='Cluster', loc='upper left')\n",
    "\n",
    "plt.show()"
   ]
  },
  {
   "cell_type": "code",
   "execution_count": null,
   "id": "afc1b838-289c-4ea9-9526-0a68a9ce0f3a",
   "metadata": {},
   "outputs": [],
   "source": []
  }
 ],
 "metadata": {
  "kernelspec": {
   "display_name": "Python 3 (ipykernel)",
   "language": "python",
   "name": "python3"
  },
  "language_info": {
   "codemirror_mode": {
    "name": "ipython",
    "version": 3
   },
   "file_extension": ".py",
   "mimetype": "text/x-python",
   "name": "python",
   "nbconvert_exporter": "python",
   "pygments_lexer": "ipython3",
   "version": "3.12.4"
  }
 },
 "nbformat": 4,
 "nbformat_minor": 5
}
